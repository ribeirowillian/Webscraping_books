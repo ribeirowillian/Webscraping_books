{
 "cells": [
  {
   "cell_type": "markdown",
   "id": "3b58027f",
   "metadata": {},
   "source": [
    "# Web Scraping \n",
    "\n",
    "O objetivo desta análise é realizar coleta e organização de dados por meio de web scraping.\n",
    "\n",
    "A proposta do projeto pode ser encontrada neste link: http://bit.ly/3Q64W7m\n",
    "\n",
    "A ideia consiste em extrair informações específicas dos livros, incluindo o título, categoria, avaliação em estrelas, preço e disponibilidade em estoque.\n"
   ]
  },
  {
   "cell_type": "code",
   "execution_count": 1,
   "id": "5963e3a6",
   "metadata": {},
   "outputs": [],
   "source": [
    "# importes para coleta de dados da web\n",
    "import requests\n",
    "from bs4 import BeautifulSoup\n",
    "import pandas as pd"
   ]
  },
  {
   "cell_type": "markdown",
   "id": "c1963aa4",
   "metadata": {},
   "source": [
    "#### Aqui estamos definindo qual página iremos coletar os dados e também testando se a conexão é efetiva."
   ]
  },
  {
   "cell_type": "code",
   "execution_count": 2,
   "id": "277d2572",
   "metadata": {},
   "outputs": [
    {
     "name": "stdout",
     "output_type": "stream",
     "text": [
      "Conexão foi um sucesso\n"
     ]
    }
   ],
   "source": [
    "url = \"https://books.toscrape.com/\"\n",
    "response = requests.get(url)\n",
    "if response.status_code == 200:\n",
    "    print('Conexão foi um sucesso')\n",
    "else:\n",
    "    print('Conexão falhou')\n"
   ]
  },
  {
   "cell_type": "markdown",
   "id": "51f09c7f",
   "metadata": {},
   "source": [
    "#### O código abaixo irá navegar por cada pagina de todos os livros e coletar as informções salvando em um dicionário."
   ]
  },
  {
   "cell_type": "code",
   "execution_count": 3,
   "id": "b38dfee0",
   "metadata": {},
   "outputs": [],
   "source": [
    "books_data = []\n",
    "# Observacão importante, para que o código funcione corretamente, vc deve usar a base url abaixo, desta maneira o html entende\n",
    "# que você não está criando uma nova pagina e sim navegando através das tag html.\n",
    "# Essa abordagem é especialmente útil quando você precisa coletar dados de muitas páginas com estruturas semelhantes,\n",
    "# pois permite automatizar o processo de obtenção de URLs e torna o web scraping mais eficiente e escalável.\n",
    "baseurl = 'https://books.toscrape.com/catalogue/'\n",
    "\n",
    "# Loop para as 50 paginas do site\n",
    "# Cuidado ao executar o loop, seu computador pode demorar um pouco, sugiro colocar umas 5 paginas para testar primeiramente. \n",
    "for num_pag in range(1,51):\n",
    "    url = baseurl + f'page-{num_pag}.html'\n",
    "    response = requests.get(url)\n",
    "    soup = BeautifulSoup(response.content,'html.parser')\n",
    "    \n",
    "    # Buscando todos os livros através da tag h3\n",
    "    books = soup.find_all('h3')\n",
    "    # Neste Loop for, estamos navegando para cada pagina dos livros e colentando todas as informações propostas nesse desafio\n",
    "    for book in books:\n",
    "        # Acessando o link do primeiro livro\n",
    "        book_url = book.find('a')['href']\n",
    "        #Buscando a base url e adicionando o link de cada livro individualmente\n",
    "        book_response = requests.get(baseurl + book_url)\n",
    "        book_soup = BeautifulSoup(book_response.content,'html.parser')\n",
    "        # Extraindo os dados: Titulo, Categoria, Estrelas, Preço e Avalaiações\n",
    "        title = book_soup.find('h1').text\n",
    "        category = book_soup.find('ul',class_='breadcrumb').find_all('a')[2].text.strip() \n",
    "        rating = book_soup.find('p',class_='star-rating')['class'][1] \n",
    "        price = book_soup.find('p',class_='price_color').text.strip()\n",
    "        availability = book_soup.find('p',class_='availability').text.strip()\n",
    "    \n",
    "        #Adicionando cada livro em uma lista de dicionários\n",
    "        books_data.append({'Titulo': title, 'Categoria': category, 'Estrelas': rating, 'Preco': price, 'Avaliacoes': availability})"
   ]
  },
  {
   "cell_type": "code",
   "execution_count": 4,
   "id": "10e90e12",
   "metadata": {},
   "outputs": [
    {
     "data": {
      "text/html": [
       "<div>\n",
       "<style scoped>\n",
       "    .dataframe tbody tr th:only-of-type {\n",
       "        vertical-align: middle;\n",
       "    }\n",
       "\n",
       "    .dataframe tbody tr th {\n",
       "        vertical-align: top;\n",
       "    }\n",
       "\n",
       "    .dataframe thead th {\n",
       "        text-align: right;\n",
       "    }\n",
       "</style>\n",
       "<table border=\"1\" class=\"dataframe\">\n",
       "  <thead>\n",
       "    <tr style=\"text-align: right;\">\n",
       "      <th></th>\n",
       "      <th>Titulo</th>\n",
       "      <th>Categoria</th>\n",
       "      <th>Estrelas</th>\n",
       "      <th>Preco</th>\n",
       "      <th>Avaliacoes</th>\n",
       "    </tr>\n",
       "  </thead>\n",
       "  <tbody>\n",
       "    <tr>\n",
       "      <th>0</th>\n",
       "      <td>A Light in the Attic</td>\n",
       "      <td>Poetry</td>\n",
       "      <td>Three</td>\n",
       "      <td>£51.77</td>\n",
       "      <td>In stock (22 available)</td>\n",
       "    </tr>\n",
       "    <tr>\n",
       "      <th>1</th>\n",
       "      <td>Tipping the Velvet</td>\n",
       "      <td>Historical Fiction</td>\n",
       "      <td>One</td>\n",
       "      <td>£53.74</td>\n",
       "      <td>In stock (20 available)</td>\n",
       "    </tr>\n",
       "    <tr>\n",
       "      <th>2</th>\n",
       "      <td>Soumission</td>\n",
       "      <td>Fiction</td>\n",
       "      <td>One</td>\n",
       "      <td>£50.10</td>\n",
       "      <td>In stock (20 available)</td>\n",
       "    </tr>\n",
       "    <tr>\n",
       "      <th>3</th>\n",
       "      <td>Sharp Objects</td>\n",
       "      <td>Mystery</td>\n",
       "      <td>Four</td>\n",
       "      <td>£47.82</td>\n",
       "      <td>In stock (20 available)</td>\n",
       "    </tr>\n",
       "    <tr>\n",
       "      <th>4</th>\n",
       "      <td>Sapiens: A Brief History of Humankind</td>\n",
       "      <td>History</td>\n",
       "      <td>Five</td>\n",
       "      <td>£54.23</td>\n",
       "      <td>In stock (20 available)</td>\n",
       "    </tr>\n",
       "  </tbody>\n",
       "</table>\n",
       "</div>"
      ],
      "text/plain": [
       "                                  Titulo           Categoria Estrelas   Preco  \\\n",
       "0                   A Light in the Attic              Poetry    Three  £51.77   \n",
       "1                     Tipping the Velvet  Historical Fiction      One  £53.74   \n",
       "2                             Soumission             Fiction      One  £50.10   \n",
       "3                          Sharp Objects             Mystery     Four  £47.82   \n",
       "4  Sapiens: A Brief History of Humankind             History     Five  £54.23   \n",
       "\n",
       "                Avaliacoes  \n",
       "0  In stock (22 available)  \n",
       "1  In stock (20 available)  \n",
       "2  In stock (20 available)  \n",
       "3  In stock (20 available)  \n",
       "4  In stock (20 available)  "
      ]
     },
     "execution_count": 4,
     "metadata": {},
     "output_type": "execute_result"
    }
   ],
   "source": [
    "# Criando Data Frame do pandas\n",
    "df = pd.DataFrame(books_data)\n",
    "df.head()"
   ]
  },
  {
   "cell_type": "code",
   "execution_count": 5,
   "id": "cba8bbd7",
   "metadata": {},
   "outputs": [],
   "source": [
    "# Criando novo DF seperando a coluna avaliacoes em duas partes Disponibilidade e Analise\n",
    "novo_df = df\n",
    "novo_df[['Disponibilidade', 'Analise']] = df['Avaliacoes'].str.extract(r'([^\\(]*)\\((\\d+)')\n",
    "\n",
    "# Removendo espaços em branco no início e no final das colunas\n",
    "novo_df['Disponibilidade'] = novo_df['Disponibilidade'].str.strip()\n",
    "novo_df['Analise'] = novo_df['Analise'].str.strip()"
   ]
  },
  {
   "cell_type": "code",
   "execution_count": 6,
   "id": "aed62117",
   "metadata": {},
   "outputs": [],
   "source": [
    "# Removendo a coluna avaliações\n",
    "novo_df = novo_df.drop(columns=['Avaliacoes'])"
   ]
  },
  {
   "cell_type": "code",
   "execution_count": 7,
   "id": "4700c7a2",
   "metadata": {},
   "outputs": [],
   "source": [
    "# Transformando os números descritos em números inteiros\n",
    "mapeando_estrelas = { 'One': '1','Two': '2', 'Three': '3', 'Four': '4', 'Five': '5'}\n",
    "novo_df['Estrelas'] = novo_df['Estrelas'].map(mapeando_estrelas)"
   ]
  },
  {
   "cell_type": "code",
   "execution_count": 8,
   "id": "40dee4f3",
   "metadata": {},
   "outputs": [],
   "source": [
    "# Removendo o caracter £ da coluna preço\n",
    "novo_df['Preco'] = novo_df['Preco'].str.replace('£', '')"
   ]
  },
  {
   "cell_type": "code",
   "execution_count": 9,
   "id": "ca63c0fb",
   "metadata": {},
   "outputs": [
    {
     "data": {
      "text/html": [
       "<div>\n",
       "<style scoped>\n",
       "    .dataframe tbody tr th:only-of-type {\n",
       "        vertical-align: middle;\n",
       "    }\n",
       "\n",
       "    .dataframe tbody tr th {\n",
       "        vertical-align: top;\n",
       "    }\n",
       "\n",
       "    .dataframe thead th {\n",
       "        text-align: right;\n",
       "    }\n",
       "</style>\n",
       "<table border=\"1\" class=\"dataframe\">\n",
       "  <thead>\n",
       "    <tr style=\"text-align: right;\">\n",
       "      <th></th>\n",
       "      <th>Titulo</th>\n",
       "      <th>Categoria</th>\n",
       "      <th>Estrelas</th>\n",
       "      <th>Preco</th>\n",
       "      <th>Disponibilidade</th>\n",
       "      <th>Analise</th>\n",
       "    </tr>\n",
       "  </thead>\n",
       "  <tbody>\n",
       "    <tr>\n",
       "      <th>0</th>\n",
       "      <td>A Light in the Attic</td>\n",
       "      <td>Poetry</td>\n",
       "      <td>3</td>\n",
       "      <td>51.77</td>\n",
       "      <td>In stock</td>\n",
       "      <td>22</td>\n",
       "    </tr>\n",
       "    <tr>\n",
       "      <th>1</th>\n",
       "      <td>Tipping the Velvet</td>\n",
       "      <td>Historical Fiction</td>\n",
       "      <td>1</td>\n",
       "      <td>53.74</td>\n",
       "      <td>In stock</td>\n",
       "      <td>20</td>\n",
       "    </tr>\n",
       "    <tr>\n",
       "      <th>2</th>\n",
       "      <td>Soumission</td>\n",
       "      <td>Fiction</td>\n",
       "      <td>1</td>\n",
       "      <td>50.10</td>\n",
       "      <td>In stock</td>\n",
       "      <td>20</td>\n",
       "    </tr>\n",
       "    <tr>\n",
       "      <th>3</th>\n",
       "      <td>Sharp Objects</td>\n",
       "      <td>Mystery</td>\n",
       "      <td>4</td>\n",
       "      <td>47.82</td>\n",
       "      <td>In stock</td>\n",
       "      <td>20</td>\n",
       "    </tr>\n",
       "    <tr>\n",
       "      <th>4</th>\n",
       "      <td>Sapiens: A Brief History of Humankind</td>\n",
       "      <td>History</td>\n",
       "      <td>5</td>\n",
       "      <td>54.23</td>\n",
       "      <td>In stock</td>\n",
       "      <td>20</td>\n",
       "    </tr>\n",
       "  </tbody>\n",
       "</table>\n",
       "</div>"
      ],
      "text/plain": [
       "                                  Titulo           Categoria Estrelas  Preco  \\\n",
       "0                   A Light in the Attic              Poetry        3  51.77   \n",
       "1                     Tipping the Velvet  Historical Fiction        1  53.74   \n",
       "2                             Soumission             Fiction        1  50.10   \n",
       "3                          Sharp Objects             Mystery        4  47.82   \n",
       "4  Sapiens: A Brief History of Humankind             History        5  54.23   \n",
       "\n",
       "  Disponibilidade Analise  \n",
       "0        In stock      22  \n",
       "1        In stock      20  \n",
       "2        In stock      20  \n",
       "3        In stock      20  \n",
       "4        In stock      20  "
      ]
     },
     "execution_count": 9,
     "metadata": {},
     "output_type": "execute_result"
    }
   ],
   "source": [
    "# Validando para ver se deu certo\n",
    "novo_df.head()"
   ]
  },
  {
   "cell_type": "markdown",
   "id": "92544f31",
   "metadata": {},
   "source": [
    "## Nesta etapa, ocorre a inserção de todas as informações coletadas em um banco de dados local. Utilizou-se o código abaixo para criar o banco de dados no PostgreSQL:\n",
    "\n",
    "#### Antes de executar o código abaixo, certifique-se que você já criou o schema chamado \"bookscrap\".\n",
    "\n",
    "```sql\n",
    "CREATE TABLE bookscrap.livros (\n",
    "    id_livros SERIAL PRIMARY KEY,\n",
    "    titulo VARCHAR(350) NOT NULL,\n",
    "    categoria VARCHAR(100) NOT NULL,\n",
    "    estrelas INTEGER NOT NULL,\n",
    "    precos NUMERIC(5) NOT NULL,\n",
    "    disponibilidade CHAR(50) NOT NULL,\n",
    "    analise INTEGER NOT NULL\n",
    ");\n",
    "```\n"
   ]
  },
  {
   "cell_type": "markdown",
   "id": "7e9206da",
   "metadata": {},
   "source": [
    "No código a seguir, utilizaremos o pacote psycopg2 para estabelecer a conexão com nosso banco de dados local e submeter os dados a ele. Para que a conexão ocorra corretamente, é necessário que você insira as informações específicas do seu banco de dados:"
   ]
  },
  {
   "cell_type": "code",
   "execution_count": 10,
   "id": "090e3592",
   "metadata": {},
   "outputs": [
    {
     "name": "stdout",
     "output_type": "stream",
     "text": [
      "Conexão bem-sucedida!\n",
      "Inserção bem-sucedida!\n"
     ]
    }
   ],
   "source": [
    "import psycopg2\n",
    "\n",
    "# Estabelencendo conexão com banco de dados local\n",
    "try:\n",
    "    connection = psycopg2.connect(\n",
    "        host=\"localhost\",      \n",
    "        database=\"dbscraping\",      \n",
    "        user=\"scraping\",     \n",
    "        password=\"scraping123\"    \n",
    "    )\n",
    "    print(\"Conexão bem-sucedida!\")\n",
    "\n",
    "    # Criar um objeto de cursor para executar comandos SQL\n",
    "    cursor = connection.cursor()\n",
    "\n",
    "    # Inserir dados do DataFrame \"novo_df\" na tabela \"livros\" no schema \"bookscrap\"\n",
    "    try:\n",
    "        for _, row in novo_df.iterrows():\n",
    "            insert_query = \"INSERT INTO bookscrap.livros (titulo, categoria, estrelas, precos, disponibilidade, analise) VALUES (%s, %s, %s, %s, %s, %s)\"\n",
    "            cursor.execute(insert_query, tuple(row))\n",
    "\n",
    "        # Commit das alterações no banco de dados\n",
    "        connection.commit()\n",
    "        print(\"Inserção bem-sucedida!\")\n",
    "\n",
    "    except psycopg2.Error as e:\n",
    "        print(\"Erro ao executar o comando SQL:\", e)\n",
    "\n",
    "    finally:\n",
    "        # Fechar o cursor e a conexão ao final das operações\n",
    "        cursor.close()\n",
    "        connection.close()\n",
    "\n",
    "except psycopg2.Error as e:\n",
    "    print(\"Erro ao conectar:\", e)\n"
   ]
  },
  {
   "attachments": {},
   "cell_type": "markdown",
   "id": "78909e30",
   "metadata": {},
   "source": [
    "#### O resultado em seu banco deve ser semelhante a este:\n",
    "\n"
   ]
  },
  {
   "attachments": {
    "bancodedados.PNG": {
     "image/png": "[encoded data removed]"
    }
   },
   "cell_type": "markdown",
   "id": "c21cd3e4",
   "metadata": {},
   "source": [
    "![bancodedados.PNG](attachment:bancodedados.PNG)"
   ]
  },
  {
   "cell_type": "markdown",
   "id": "72563fa3",
   "metadata": {},
   "source": [
    "#### Considerações finais\n",
    "\n",
    "Certamente, podemos realizar algumas melhorias adicionais para tornar o código mais robusto e lidar com possíveis falhas de conexão e páginas não encontradas durante o web scraping.\n",
    "\n",
    "Agradeço desde-ja qualquer feedback positivo. "
   ]
  },
  {
   "cell_type": "code",
   "execution_count": null,
   "id": "34dc2300",
   "metadata": {},
   "outputs": [],
   "source": [
    "\n"
   ]
  }
 ],
 "metadata": {
  "kernelspec": {
   "display_name": "Python 3 (ipykernel)",
   "language": "python",
   "name": "python3"
  },
  "language_info": {
   "codemirror_mode": {
    "name": "ipython",
    "version": 3
   },
   "file_extension": ".py",
   "mimetype": "text/x-python",
   "name": "python",
   "nbconvert_exporter": "python",
   "pygments_lexer": "ipython3",
   "version": "3.10.9"
  }
 },
 "nbformat": 4,
 "nbformat_minor": 5
}
